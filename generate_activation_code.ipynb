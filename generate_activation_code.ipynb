{
 "cells": [
  {
   "cell_type": "code",
   "execution_count": 27,
   "metadata": {},
   "outputs": [
    {
     "ename": "SyntaxError",
     "evalue": "invalid syntax (<ipython-input-27-811a39ed29ac>, line 19)",
     "output_type": "error",
     "traceback": [
      "\u001b[1;36m  File \u001b[1;32m\"<ipython-input-27-811a39ed29ac>\"\u001b[1;36m, line \u001b[1;32m19\u001b[0m\n\u001b[1;33m    f.close()\u001b[0m\n\u001b[1;37m    ^\u001b[0m\n\u001b[1;31mSyntaxError\u001b[0m\u001b[1;31m:\u001b[0m invalid syntax\n"
     ]
    }
   ],
   "source": [
    "# -*- coding: utf-8 -*-\n",
    "# generate activation code\n",
    "\n",
    "import random,string\n",
    "\n",
    "def rand_str(num, length = 10):\n",
    "    f = open('E:\\python_practice\\Activation_code22.txt', 'wb')\n",
    "    for i in range(num):\n",
    "        chars = string.ascii_letters + string.digits\n",
    "        s = [random.choice(chars) for i in range(length)]\n",
    "        #f.write(''.join(s) + '\\n')\n",
    "        #f.write('\\n'.format(''.join(s)))\n",
    "        #f.write((''.join(s) + '\\n').encode('utf-8'))\n",
    "        #f.write((''.join(s).encode('utf-8') + '\\n'))\n",
    "        #f.write((''.join(s)).encode('utf-8'))\n",
    "        f.write((''.join(s) + '\\n'.encode('utf-8'))\n",
    "    \n",
    "        \n",
    "        \n",
    "     f.close()\n",
    "    \n",
    "if __name__ == '__main__':\n",
    "    rand_str(50)\n",
    "    "
   ]
  },
  {
   "cell_type": "code",
   "execution_count": null,
   "metadata": {
    "collapsed": true
   },
   "outputs": [],
   "source": []
  }
 ],
 "metadata": {
  "kernelspec": {
   "display_name": "Python 3",
   "language": "python",
   "name": "python3"
  },
  "language_info": {
   "codemirror_mode": {
    "name": "ipython",
    "version": 3
   },
   "file_extension": ".py",
   "mimetype": "text/x-python",
   "name": "python",
   "nbconvert_exporter": "python",
   "pygments_lexer": "ipython3",
   "version": "3.6.4"
  }
 },
 "nbformat": 4,
 "nbformat_minor": 2
}
